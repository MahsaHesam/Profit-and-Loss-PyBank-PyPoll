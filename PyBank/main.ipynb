{
 "cells": [
  {
   "cell_type": "code",
   "execution_count": 1,
   "id": "21c69975-51a7-442c-91d3-5757d5a15979",
   "metadata": {},
   "outputs": [],
   "source": [
    "import os\n",
    "import csv"
   ]
  },
  {
   "cell_type": "code",
   "execution_count": 3,
   "id": "52505903-203d-4049-a654-5844fe0076d8",
   "metadata": {},
   "outputs": [],
   "source": [
    "# collecting csv file\n",
    "budget_data_csv = os.path.join(\"Resources/budget_data.csv\")"
   ]
  },
  {
   "cell_type": "code",
   "execution_count": 4,
   "id": "79aace2f-812c-4df6-a967-0eedcb8371b7",
   "metadata": {},
   "outputs": [],
   "source": [
    "#Create empty list\n",
    "month_count=[]\n",
    "profit_losses=[]\n",
    "change=[]"
   ]
  },
  {
   "cell_type": "code",
   "execution_count": 5,
   "id": "3b5491b4-cf45-4559-a9f6-812dbe08fc3f",
   "metadata": {},
   "outputs": [],
   "source": [
    "with open(budget_data_csv) as csv_file:\n",
    "    csv_reader=csv.reader(csv_file, delimiter=\",\")\n",
    "    header = next(csv_reader)\n",
    "    \n",
    "    for row in csv_reader:\n",
    "        month_count.append(str(row[0]))\n",
    "        profit_losses.append(int(row[1]))\n",
    "    \n",
    "   \n",
    "    for i in range(len(profit_losses)-1):\n",
    "       \n",
    "        change.append(profit_losses[i+1]- profit_losses[i])\n",
    "    \n",
    "    Increase=max(change)\n",
    "    Decrease=min(change)\n",
    "    month_increase=change.index(max(change))+1\n",
    "    month_decrease=change.index(min(change))+1    "
   ]
  },
  {
   "cell_type": "code",
   "execution_count": 6,
   "id": "4cfa1f8f-7695-44a1-a91d-2cf32a7652e8",
   "metadata": {},
   "outputs": [
    {
     "name": "stdout",
     "output_type": "stream",
     "text": [
      "Financial Analysis\n",
      "-----------------------------------------------\n",
      "Total Months: 86\n",
      "Total: $22564198\n",
      "Average Change: -8311.11\n",
      "Greatest Increase in Profits: Aug-16 ($1862002)\n",
      "Greatest Decrease in Profits: Feb-14 ($-1825558)\n"
     ]
    }
   ],
   "source": [
    "print(\"Financial Analysis\")\n",
    "print(\"-----------------------------------------------\")\n",
    "print(f'Total Months: {str(len(month_count))}')\n",
    "print(f'Total: ${sum(profit_losses)}')\n",
    "print(f\"Average Change: {round(sum(change)/ len(change),2)}\")\n",
    "print(f\"Greatest Increase in Profits: {month_count[month_increase]} (${(str(Increase))})\")\n",
    "print(f\"Greatest Decrease in Profits: {month_count[month_decrease]} (${(str(Decrease))})\")"
   ]
  },
  {
   "cell_type": "code",
   "execution_count": 7,
   "id": "f8b4b6a5-a141-43ef-ac46-4c967b1a432e",
   "metadata": {},
   "outputs": [],
   "source": [
    "pyBank= os.path.join(\".\", 'pyBank.txt')\n",
    "with open('pyBank.txt' , 'w') as text:\n",
    "    text.write(\"Financial Analysis\\n\")\n",
    "    text.write(\"-----------------------------------------------\\n\")\n",
    "    text.write(f'Total Months: {str(len(month_count))}')\n",
    "    text.write(\"\\n\")\n",
    "    text.write(f'Total: ${sum(profit_losses)}')\n",
    "    text.write(\"\\n\")\n",
    "    text.write(f\"Average Change: {round(sum(change)/ len(change),2)}\")\n",
    "    text.write(\"\\n\")\n",
    "    text.write(f\"Greatest Increase in Profits: {month_count[month_increase]} (${(str(Increase))})\")\n",
    "    text.write(\"\\n\")\n",
    "    text.write(f\"Greatest Decrease in Profits: {month_count[month_decrease]} (${(str(Decrease))})\")\n",
    "               "
   ]
  },
  {
   "cell_type": "code",
   "execution_count": null,
   "id": "54823645-150a-4919-82a9-dc9502422341",
   "metadata": {},
   "outputs": [],
   "source": []
  }
 ],
 "metadata": {
  "kernelspec": {
   "display_name": "Python 3 (ipykernel)",
   "language": "python",
   "name": "python3"
  },
  "language_info": {
   "codemirror_mode": {
    "name": "ipython",
    "version": 3
   },
   "file_extension": ".py",
   "mimetype": "text/x-python",
   "name": "python",
   "nbconvert_exporter": "python",
   "pygments_lexer": "ipython3",
   "version": "3.11.5"
  }
 },
 "nbformat": 4,
 "nbformat_minor": 5
}
