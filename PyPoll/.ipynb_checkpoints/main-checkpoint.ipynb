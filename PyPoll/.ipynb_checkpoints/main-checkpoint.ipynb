{
 "cells": [
  {
   "cell_type": "code",
   "execution_count": 1,
   "id": "5f6c9e5d-dd6a-4a52-8f32-d03b833136ef",
   "metadata": {},
   "outputs": [],
   "source": [
    "import os\n",
    "import csv"
   ]
  },
  {
   "cell_type": "code",
   "execution_count": 2,
   "id": "38b88815-d84f-400a-b289-fb5a901a3f5a",
   "metadata": {},
   "outputs": [],
   "source": [
    "election_data_csv=os.path.join(\"Resources/election_data.csv\")"
   ]
  },
  {
   "cell_type": "code",
   "execution_count": 3,
   "id": "55e06278-3d65-4612-9206-87fe93c970ba",
   "metadata": {},
   "outputs": [],
   "source": [
    "candidate_votes={}\n",
    "candidate_list=[]\n",
    "total_votes=0\n",
    "\n",
    "winning_candidate=\"\"\n",
    "winning_count=0"
   ]
  },
  {
   "cell_type": "code",
   "execution_count": 4,
   "id": "36296c29-e0ab-4153-b3cc-62da2f7fa8dd",
   "metadata": {},
   "outputs": [
    {
     "name": "stdout",
     "output_type": "stream",
     "text": [
      "``` text \n",
      "Election Results\n",
      "-------------------------------------\n"
     ]
    }
   ],
   "source": [
    "print(\"``` text \")\n",
    "print(\"Election Results\")\n",
    "print(\"-------------------------------------\")"
   ]
  },
  {
   "cell_type": "code",
   "execution_count": 5,
   "id": "43961670-fb41-4fd0-bee6-aa65985b8e9c",
   "metadata": {},
   "outputs": [],
   "source": [
    "with open(election_data_csv) as csv_file:\n",
    "    csv_reader=csv.reader(csv_file, delimiter=\",\")\n",
    "    header=next(csv_reader)\n",
    "    for row in csv_reader:\n",
    "        total_votes +=1\n",
    "        candidate=str(row[2])\n",
    "\n",
    "        if candidate not in candidate_list:\n",
    "            candidate_list.append(str(candidate))\n",
    "            candidate_votes[candidate]=0\n",
    "        candidate_votes[candidate] +=1"
   ]
  },
  {
   "cell_type": "code",
   "execution_count": 6,
   "id": "90580107-16b6-4b21-b9fd-889fc2f86c3a",
   "metadata": {},
   "outputs": [
    {
     "name": "stdout",
     "output_type": "stream",
     "text": [
      "Total Votes: 369711\n",
      "-------------------------------------\n"
     ]
    }
   ],
   "source": [
    "print(f\"Total Votes: {total_votes}\")\n",
    "print(\"-------------------------------------\")"
   ]
  },
  {
   "cell_type": "code",
   "execution_count": 7,
   "id": "ccc11be4-ccde-4399-b8d9-b2b39109dc43",
   "metadata": {},
   "outputs": [
    {
     "name": "stdout",
     "output_type": "stream",
     "text": [
      "Charles Casper Stockham: 23.049% (85213)\n",
      "Diana DeGette: 73.812% (272892)\n",
      "Raymon Anthony Doane: 3.139% (11606)\n"
     ]
    }
   ],
   "source": [
    "for candidate in candidate_votes:\n",
    "    votes=candidate_votes.get(candidate)\n",
    "    vote_percentage= 0\n",
    "    vote_percentage=round(float(votes)/float(total_votes)*100,3)\n",
    "        \n",
    "    final_list = (f\"{candidate}: {vote_percentage}% ({votes})\")\n",
    "    print(final_list) \n",
    "    if votes > winning_count:\n",
    "        winning_count = votes\n",
    "        winning_candidate = candidate"
   ]
  },
  {
   "cell_type": "code",
   "execution_count": 8,
   "id": "aced200c-9ffa-4555-9f07-e7120a601308",
   "metadata": {},
   "outputs": [
    {
     "name": "stdout",
     "output_type": "stream",
     "text": [
      "-------------------------------------\n",
      "Winner: Diana DeGette\n",
      "-------------------------------------\n",
      "``` text \n"
     ]
    }
   ],
   "source": [
    "print(\"-------------------------------------\")\n",
    "print(f'Winner: {winning_candidate}')\n",
    "print(\"-------------------------------------\")\n",
    "print(\"``` text \")         "
   ]
  },
  {
   "cell_type": "code",
   "execution_count": 9,
   "id": "16138189-869f-46e8-9afa-26d387a3c746",
   "metadata": {},
   "outputs": [],
   "source": [
    "PyPoll= os.path.join(\".\", 'PyPoll.txt')\n",
    "with open('PyPoll.txt' , 'w') as text:\n",
    "    text.write(\"``` text\\n\")\n",
    "    text.write(\"Election Results\\n\")\n",
    "    text.write(\"-----------------------------------------------\\n\")\n",
    "    text.write(f\"Total Votes: {total_votes}\\n\")\n",
    "    text.write(\"-----------------------------------------------\\n\")\n",
    "    for candidate in candidate_votes:\n",
    "        votes=candidate_votes.get(candidate)\n",
    "        vote_percentage= 0\n",
    "        vote_percentage=round(float(votes)/float(total_votes)*100,3)    \n",
    "        text.write(f\"{candidate}: {vote_percentage}% ({votes})\\n\")\n",
    "        \n",
    "    text.write(\"-----------------------------------------------\\n\")\n",
    "    text.write(f\"Winner: {winning_candidate}\\n\")\n",
    "    text.write(\"-----------------------------------------------\\n\")\n",
    "    text.write(\"``` text\")"
   ]
  },
  {
   "cell_type": "code",
   "execution_count": null,
   "id": "c97d8009-5334-42cc-842f-0afefb9ca484",
   "metadata": {},
   "outputs": [],
   "source": []
  }
 ],
 "metadata": {
  "kernelspec": {
   "display_name": "Python 3 (ipykernel)",
   "language": "python",
   "name": "python3"
  },
  "language_info": {
   "codemirror_mode": {
    "name": "ipython",
    "version": 3
   },
   "file_extension": ".py",
   "mimetype": "text/x-python",
   "name": "python",
   "nbconvert_exporter": "python",
   "pygments_lexer": "ipython3",
   "version": "3.11.5"
  }
 },
 "nbformat": 4,
 "nbformat_minor": 5
}
